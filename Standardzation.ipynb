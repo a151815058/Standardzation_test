{
  "nbformat": 4,
  "nbformat_minor": 0,
  "metadata": {
    "colab": {
      "name": "Standardzation.ipynb",
      "provenance": [],
      "authorship_tag": "ABX9TyO7BIU8GzdAOf+CEBmVLYBR",
      "include_colab_link": true
    },
    "kernelspec": {
      "name": "python3",
      "display_name": "Python 3"
    },
    "language_info": {
      "name": "python"
    }
  },
  "cells": [
    {
      "cell_type": "markdown",
      "metadata": {
        "id": "view-in-github",
        "colab_type": "text"
      },
      "source": [
        "<a href=\"https://colab.research.google.com/github/a151815058/Standardzation_test/blob/main/Standardzation.ipynb\" target=\"_parent\"><img src=\"https://colab.research.google.com/assets/colab-badge.svg\" alt=\"Open In Colab\"/></a>"
      ]
    },
    {
      "cell_type": "markdown",
      "metadata": {
        "id": "r2JxWqNBldKj"
      },
      "source": [
        "\n",
        "### Z-score"
      ]
    },
    {
      "cell_type": "markdown",
      "metadata": {
        "id": "7VT97Y3Bmjcy"
      },
      "source": [
        "#### import package"
      ]
    },
    {
      "cell_type": "code",
      "metadata": {
        "id": "nMHWHXcwlXSS"
      },
      "source": [
        "import numpy as np\n",
        "from scipy import stats"
      ],
      "execution_count": null,
      "outputs": []
    },
    {
      "cell_type": "code",
      "metadata": {
        "colab": {
          "base_uri": "https://localhost:8080/"
        },
        "id": "fj5sfh53l5_7",
        "outputId": "61450ad9-9bb4-4c88-bab7-61e7e3264fba"
      },
      "source": [
        "data = np.array([200,300,400,600,1000])\n",
        "data"
      ],
      "execution_count": null,
      "outputs": [
        {
          "output_type": "execute_result",
          "data": {
            "text/plain": [
              "array([ 200,  300,  400,  600, 1000])"
            ]
          },
          "metadata": {},
          "execution_count": 3
        }
      ]
    },
    {
      "cell_type": "code",
      "metadata": {
        "colab": {
          "base_uri": "https://localhost:8080/"
        },
        "id": "tPdIEY1JqZyr",
        "outputId": "abcd8dbd-342f-4bfe-f6a0-64cdb57fddc8"
      },
      "source": [
        "data.shape"
      ],
      "execution_count": null,
      "outputs": [
        {
          "output_type": "execute_result",
          "data": {
            "text/plain": [
              "(5,)"
            ]
          },
          "metadata": {},
          "execution_count": 10
        }
      ]
    },
    {
      "cell_type": "code",
      "metadata": {
        "colab": {
          "base_uri": "https://localhost:8080/"
        },
        "id": "naFP7JLToDJw",
        "outputId": "6a34ea33-8696-4c77-a9c1-8f05ff4ec7da"
      },
      "source": [
        "type(data)"
      ],
      "execution_count": null,
      "outputs": [
        {
          "output_type": "execute_result",
          "data": {
            "text/plain": [
              "numpy.ndarray"
            ]
          },
          "metadata": {},
          "execution_count": 4
        }
      ]
    },
    {
      "cell_type": "code",
      "metadata": {
        "colab": {
          "base_uri": "https://localhost:8080/"
        },
        "id": "pJYbTb7aoPjR",
        "outputId": "7d52fdfe-892b-484b-bd94-1c76b1b76558"
      },
      "source": [
        "zscore = stats.zscore(data)\n",
        "zscore"
      ],
      "execution_count": null,
      "outputs": [
        {
          "output_type": "execute_result",
          "data": {
            "text/plain": [
              "array([-1.06066017, -0.70710678, -0.35355339,  0.35355339,  1.76776695])"
            ]
          },
          "metadata": {},
          "execution_count": 6
        }
      ]
    },
    {
      "cell_type": "markdown",
      "metadata": {
        "id": "KZvXd66Xo7e-"
      },
      "source": [
        "### Min-Max"
      ]
    },
    {
      "cell_type": "markdown",
      "metadata": {
        "id": "LBkcHxGFpBxE"
      },
      "source": [
        "#### import package"
      ]
    },
    {
      "cell_type": "code",
      "metadata": {
        "colab": {
          "base_uri": "https://localhost:8080/"
        },
        "id": "Xsd-W-qjo-eQ",
        "outputId": "0494a1c4-9215-47bd-d810-ccafd91eb021"
      },
      "source": [
        "from sklearn.preprocessing import MinMaxScaler\n",
        "scaler = MinMaxScaler()\n",
        "data2=np.array([[200],[300],[400],[600],[1000]])\n",
        "data2"
      ],
      "execution_count": null,
      "outputs": [
        {
          "output_type": "execute_result",
          "data": {
            "text/plain": [
              "array([[ 200],\n",
              "       [ 300],\n",
              "       [ 400],\n",
              "       [ 600],\n",
              "       [1000]])"
            ]
          },
          "metadata": {},
          "execution_count": 11
        }
      ]
    },
    {
      "cell_type": "code",
      "metadata": {
        "colab": {
          "base_uri": "https://localhost:8080/"
        },
        "id": "JRMhPYforWAS",
        "outputId": "ace4805a-aebc-4c25-cd8f-5c0b72ab651f"
      },
      "source": [
        "data2.shape"
      ],
      "execution_count": null,
      "outputs": [
        {
          "output_type": "execute_result",
          "data": {
            "text/plain": [
              "(5, 1)"
            ]
          },
          "metadata": {},
          "execution_count": 12
        }
      ]
    },
    {
      "cell_type": "code",
      "metadata": {
        "colab": {
          "base_uri": "https://localhost:8080/"
        },
        "id": "GbxMAJJurpim",
        "outputId": "26a875fb-8124-47b5-9c49-e20c5a2326a6"
      },
      "source": [
        "minmax = scaler.fit_transform(data2)\n",
        "minmax"
      ],
      "execution_count": null,
      "outputs": [
        {
          "output_type": "execute_result",
          "data": {
            "text/plain": [
              "array([[0.   ],\n",
              "       [0.125],\n",
              "       [0.25 ],\n",
              "       [0.5  ],\n",
              "       [1.   ]])"
            ]
          },
          "metadata": {},
          "execution_count": 13
        }
      ]
    },
    {
      "cell_type": "code",
      "metadata": {
        "id": "9f8uBTidsDGK"
      },
      "source": [
        "from keras.datasets import mnist\n",
        "import cv2\n",
        "(x_train,y_train),(x_text,y_test) = mnist.load_data()"
      ],
      "execution_count": null,
      "outputs": []
    },
    {
      "cell_type": "code",
      "metadata": {
        "colab": {
          "base_uri": "https://localhost:8080/"
        },
        "id": "1cZ97unfsoc-",
        "outputId": "3343ce7e-7e16-49ed-dad6-3755f40e7718"
      },
      "source": [
        "x_train.shape"
      ],
      "execution_count": null,
      "outputs": [
        {
          "output_type": "execute_result",
          "data": {
            "text/plain": [
              "(60000, 28, 28)"
            ]
          },
          "metadata": {},
          "execution_count": 23
        }
      ]
    }
  ]
}